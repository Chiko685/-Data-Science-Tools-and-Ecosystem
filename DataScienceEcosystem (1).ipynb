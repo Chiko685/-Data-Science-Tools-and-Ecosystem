{
  "metadata": {
    "kernelspec": {
      "name": "python",
      "display_name": "Python (Pyodide)",
      "language": "python"
    },
    "language_info": {
      "codemirror_mode": {
        "name": "python",
        "version": 3
      },
      "file_extension": ".py",
      "mimetype": "text/x-python",
      "name": "python",
      "nbconvert_exporter": "python",
      "pygments_lexer": "ipython3",
      "version": "3.8"
    }
  },
  "nbformat_minor": 5,
  "nbformat": 4,
  "cells": [
    {
      "id": "d68ae5d9-f090-4793-a1bc-9e6ddcbbaae3",
      "cell_type": "markdown",
      "source": "# Data Science Tools and Ecosystem",
      "metadata": {}
    },
    {
      "id": "ae1b45fe-d235-476b-b7b1-56beb5efe4fc",
      "cell_type": "markdown",
      "source": "In this notebook, Data Science Tools and Ecosystem are summarized.",
      "metadata": {}
    },
    {
      "id": "bc67b3cd-3d4a-40dd-a884-e0ece08ddc9c",
      "cell_type": "markdown",
      "source": "Some of the popular languages that Data Scientists use are:\n\n1. Python  \n2. R  \n3. SQL  \n4. Julia  \n5. Scala",
      "metadata": {}
    },
    {
      "id": "b28096e3-bb33-4f74-a7b6-1d781babcdb5",
      "cell_type": "markdown",
      "source": "Some of the commonly used libraries used by Data Scientists include:\n\n1. Pandas  \n2. NumPy  \n3. Matplotlib  \n4. Scikit-learn  \n5. TensorFlow  \n6. ggplot2",
      "metadata": {}
    },
    {
      "id": "bb02c2a3-fa7b-40bb-a02f-005d371c8f58",
      "cell_type": "markdown",
      "source": "| Data Science Tools |\n| ------------------ |\n| Jupiter Notebook   |\n| R Studios          |\n| Visual Studio Code |",
      "metadata": {}
    },
    {
      "id": "f9f529a4-56ca-4d19-b5bf-08aafab474ef",
      "cell_type": "markdown",
      "source": " ### Below are a few examples of evaluating arithmetic expressions in Python \n ",
      "metadata": {}
    },
    {
      "id": "e2f8c3a1-3f66-454c-bfff-5e5a1d2e2630",
      "cell_type": "markdown",
      "source": "This a simple arithmetic expression to mutiply then add integers\n",
      "metadata": {
        "collapsed": true,
        "jupyter": {
          "outputs_hidden": true
        }
      }
    },
    {
      "id": "a4988805-4cc7-40d7-8875-6e2b0e3bb2b1",
      "cell_type": "code",
      "source": "(3 * 4 ) + 5",
      "metadata": {
        "trusted": true
      },
      "outputs": [
        {
          "execution_count": 11,
          "output_type": "execute_result",
          "data": {
            "text/plain": "17"
          },
          "metadata": {}
        }
      ],
      "execution_count": 11
    },
    {
      "id": "1ca6affc-10b7-4a98-8717-7061167cefbb",
      "cell_type": "markdown",
      "source": "This will convert 200 minutes to hours by diving by 60.",
      "metadata": {}
    },
    {
      "id": "a9add6c2-d0be-4b94-afe0-58641f7cde15",
      "cell_type": "code",
      "source": "200 / 60",
      "metadata": {
        "trusted": true
      },
      "outputs": [
        {
          "execution_count": 12,
          "output_type": "execute_result",
          "data": {
            "text/plain": "3.3333333333333335"
          },
          "metadata": {}
        }
      ],
      "execution_count": 12
    },
    {
      "id": "3d745ac6-e506-4c21-922a-34c101f81d7e",
      "cell_type": "markdown",
      "source": "**Objectives:**\n\n- List popular languages for Data Science  \n- Identify commonly used libraries for Data Science  \n- Describe Data Science tools and ecosystems  \n- Create and format markdown cells in a Jupyter notebook  \n- Share notebooks via GitHub",
      "metadata": {}
    },
    {
      "id": "6566131d-f6b4-4e0e-912a-43607008d67a",
      "cell_type": "markdown",
      "source": "## Ika Wahyuni",
      "metadata": {}
    },
    {
      "id": "6c4cc443-c52d-43d7-80c8-0887fe572057",
      "cell_type": "code",
      "source": "",
      "metadata": {
        "trusted": true
      },
      "outputs": [],
      "execution_count": null
    }
  ]
}